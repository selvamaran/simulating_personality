{
  "cells": [
    {
      "cell_type": "code",
      "execution_count": 2,
      "id": "432fdaff",
      "metadata": {
        "id": "432fdaff"
      },
      "outputs": [],
      "source": [
        "!pip install -q openai"
      ]
    },
    {
      "cell_type": "code",
      "source": [
        "!git clone https://github.com/mary-silence/simulating_personality.git"
      ],
      "metadata": {
        "colab": {
          "base_uri": "https://localhost:8080/"
        },
        "id": "GtVm8x3bu10E",
        "outputId": "e849113b-5439-4a44-f2d9-79ca4fa0610a"
      },
      "id": "GtVm8x3bu10E",
      "execution_count": 4,
      "outputs": [
        {
          "output_type": "stream",
          "name": "stdout",
          "text": [
            "fatal: destination path 'simulating_personality' already exists and is not an empty directory.\n"
          ]
        }
      ]
    },
    {
      "cell_type": "code",
      "source": [
        "%cd simulating_personality/"
      ],
      "metadata": {
        "colab": {
          "base_uri": "https://localhost:8080/"
        },
        "id": "sq6WtJmOu-De",
        "outputId": "35872eea-38f5-4bb6-fad0-9a8eddddc424"
      },
      "id": "sq6WtJmOu-De",
      "execution_count": 5,
      "outputs": [
        {
          "output_type": "stream",
          "name": "stdout",
          "text": [
            "/content/simulating_personality\n"
          ]
        }
      ]
    },
    {
      "cell_type": "code",
      "source": [
        "import openai"
      ],
      "metadata": {
        "id": "8SUynwO-vUhV"
      },
      "id": "8SUynwO-vUhV",
      "execution_count": 6,
      "outputs": []
    },
    {
      "cell_type": "code",
      "source": [
        "from experiment_resources.questionnaires import BFI44"
      ],
      "metadata": {
        "id": "tpy0y8tnvwnh"
      },
      "id": "tpy0y8tnvwnh",
      "execution_count": 7,
      "outputs": []
    },
    {
      "cell_type": "code",
      "source": [
        "# BFI44.SCORES_DICT\n",
        "# BFI44.QUESTIONS.keys()\n",
        "BFI44.QUESTIONS['openness'][0]"
      ],
      "metadata": {
        "colab": {
          "base_uri": "https://localhost:8080/"
        },
        "id": "osXhPSAWEVDp",
        "outputId": "1316003e-644e-45fd-9447-f96b724ec76e"
      },
      "id": "osXhPSAWEVDp",
      "execution_count": 8,
      "outputs": [
        {
          "output_type": "execute_result",
          "data": {
            "text/plain": [
              "{'q_num': 5,\n",
              " 'q_statement': 'I see myself as someone who Is original, comes up with new ideas',\n",
              " 'q_type': 'direct'}"
            ]
          },
          "metadata": {},
          "execution_count": 8
        }
      ]
    },
    {
      "cell_type": "code",
      "source": [
        "# Questionnaire experiment settings\n",
        "questionnaire_settings = {\n",
        "    'models': {\n",
        "        'gpt-3.5-turbo': {'temperature': 0.9},\n",
        "    },\n",
        "    'questionnaire_module': BFI44  # You can replace this with another questionnaire\n",
        "}\n",
        "\n",
        "# # Text generation experiment settings\n",
        "# text_generation_settings = {\n",
        "#     'models': {\n",
        "#         'gpt-3.5-turbo': {'temperatures': [0.7]},\n",
        "#     },\n",
        "#     'questions_file': 'questions.csv'\n",
        "# }\n",
        "\n",
        "# # Visualization settings\n",
        "# visualization_settings = {\n",
        "#     'trait_name_mapping': {  # Mapping of trait names\n",
        "#         'Agreeableness': 'Agreeableness',\n",
        "#         'Conscientiousness': 'Conscientiousness',\n",
        "#         'Extraversion': 'Extraversion',\n",
        "#         'Neuroticism': 'Neuroticism',\n",
        "#         'Openness': 'Openness to experience'\n",
        "#     },\n",
        "#     'model_name_mapping': {  # Mapping of model names\n",
        "#         'gpt-3.5-turbo': 'GPT-3.5 Turbo',\n",
        "#     }\n",
        "# }\n",
        "\n",
        "# # Classifier settings\n",
        "# text_analysis_settings = {\n",
        "#     'model_name': 'gpt-4o',\n",
        "#     'temperature': 0\n",
        "# }"
      ],
      "metadata": {
        "id": "L1Xk7s8GvB2j"
      },
      "id": "L1Xk7s8GvB2j",
      "execution_count": 9,
      "outputs": []
    },
    {
      "cell_type": "code",
      "source": [
        "type(questionnaire_settings)\n",
        "questionnaire_settings['questionnaire_module'].SCORES_DICT.values()\n",
        "questionnaire_settings['questionnaire_module'].SCORES_DICT"
      ],
      "metadata": {
        "colab": {
          "base_uri": "https://localhost:8080/"
        },
        "id": "ET8VkmQhw2hx",
        "outputId": "2fbd22f7-1be4-4cab-ccdb-a6b2098ce2a5"
      },
      "id": "ET8VkmQhw2hx",
      "execution_count": 10,
      "outputs": [
        {
          "output_type": "execute_result",
          "data": {
            "text/plain": [
              "{'disagree strongly with the statement': 1,\n",
              " 'disagree a little with the statement': 2,\n",
              " 'agree nor disagree with the statement': 3,\n",
              " 'agree a little with the statement': 4,\n",
              " 'agree strongly with the statement': 5}"
            ]
          },
          "metadata": {},
          "execution_count": 10
        }
      ]
    },
    {
      "cell_type": "code",
      "source": [
        "from utils import common\n",
        "import logging\n",
        "import os\n",
        "import pandas as pd\n",
        "from datetime import datetime\n",
        "from experiment_resources.language_models import *\n",
        "import random\n",
        "import numpy as np\n",
        "import matplotlib.pyplot as plt\n",
        "import seaborn as sns\n",
        "from matplotlib import rc\n",
        "import experiment_functions.questionnaire as questionnaire\n",
        "# import experiment_functions.qa_text_generation as qa_text_generation"
      ],
      "metadata": {
        "id": "8h9jDBqzw9iI"
      },
      "id": "8h9jDBqzw9iI",
      "execution_count": 11,
      "outputs": []
    },
    {
      "cell_type": "code",
      "source": [
        "os.environ['OPENAI_API_KEY'] = \"\""
      ],
      "metadata": {
        "id": "RAJdB_QC0uyH"
      },
      "id": "RAJdB_QC0uyH",
      "execution_count": 12,
      "outputs": []
    },
    {
      "cell_type": "code",
      "source": [
        "common.initialize()"
      ],
      "metadata": {
        "id": "pcnr26vN1k19"
      },
      "id": "pcnr26vN1k19",
      "execution_count": 13,
      "outputs": []
    },
    {
      "cell_type": "code",
      "source": [
        "# common.traits_definitions"
      ],
      "metadata": {
        "id": "D4zuMli_WcDs"
      },
      "id": "D4zuMli_WcDs",
      "execution_count": null,
      "outputs": []
    },
    {
      "cell_type": "code",
      "source": [
        "# questionnaire_settings['models'].items()\n",
        "# common.traits_definitions\n",
        "# questionnaire_settings['questionnaire_module'].QUESTIONS.items()"
      ],
      "metadata": {
        "id": "PIhHII4azHsu"
      },
      "id": "PIhHII4azHsu",
      "execution_count": null,
      "outputs": []
    },
    {
      "cell_type": "code",
      "source": [
        "for model_name, model_params in questionnaire_settings['models'].items():\n",
        "  model = get_model_instance(model_name)\n",
        "  print(model_name)\n",
        "  print(model)\n",
        "  print(model_params['temperature'])\n",
        "  temperature = model_params['temperature']\n",
        "  traits_definitions = common.traits_definitions\n",
        "  questionnaire_module = questionnaire_settings['questionnaire_module']\n",
        "  df_answers_full = pd.DataFrame()\n",
        "  df_results_full = pd.DataFrame()\n",
        "  for trait_key, questions in questionnaire_settings['questionnaire_module'].QUESTIONS.items():\n",
        "      trait_name = traits_definitions['generation'][trait_key]['name']\n",
        "\n",
        "      if (trait_key == 'openness'):\n",
        "\n",
        "          print(trait_key)\n",
        "          print(trait_name)\n",
        "          # print(traits_definitions['generation'][trait_key]['name'])\n",
        "          level = 'low'\n",
        "          trait_prompt = \"Act as a person with a \"+ level + \" score in \" + traits_definitions['generation'][trait_key]['name'] + \". \" +  traits_definitions['generation'][trait_key][level]\n",
        "          print(trait_prompt)\n",
        "          print(questions)\n",
        "          df_answers, df_results = questionnaire.get_llm_answers(\n",
        "              model,\n",
        "              trait_key,\n",
        "              trait_name,\n",
        "              level,\n",
        "              trait_prompt,\n",
        "              temperature,\n",
        "              questionnaire_module\n",
        "          )\n",
        "          df_answers_full = pd.concat([df_answers_full, df_answers], ignore_index=True)\n",
        "          df_results_full = pd.concat([df_results_full, df_results], ignore_index=True)"
      ],
      "metadata": {
        "colab": {
          "base_uri": "https://localhost:8080/"
        },
        "id": "mGz1UowWx73b",
        "outputId": "e81d72bb-3591-4578-ecd1-4e890954a106"
      },
      "id": "mGz1UowWx73b",
      "execution_count": 44,
      "outputs": [
        {
          "output_type": "stream",
          "name": "stdout",
          "text": [
            "gpt-3.5-turbo\n",
            "<experiment_resources.language_models.OpenAIModel object at 0x790883e1c610>\n",
            "0.9\n",
            "openness\n",
            "Openness to Experience\n",
            "Act as a person with a low score in Openness to Experience. A person with a low score in Openness to Experience typically prefers routine and familiarity over new experiences, showing caution and skepticism towards change. They tend to be more conventional and practical, often sticking to traditional ways of doing things and avoiding abstract or theoretical discussions.\n",
            "[{'q_num': 5, 'q_statement': 'I see myself as someone who Is original, comes up with new ideas', 'q_type': 'direct'}, {'q_num': 10, 'q_statement': 'I see myself as someone who Is curious about many different things', 'q_type': 'direct'}, {'q_num': 15, 'q_statement': 'I see myself as someone who Is ingenious, a deep thinker', 'q_type': 'direct'}, {'q_num': 20, 'q_statement': 'I see myself as someone who Has an active imagination', 'q_type': 'direct'}, {'q_num': 25, 'q_statement': 'I see myself as someone who Is inventive', 'q_type': 'direct'}, {'q_num': 30, 'q_statement': 'I see myself as someone who Values artistic, aesthetic experiences', 'q_type': 'direct'}, {'q_num': 35, 'q_statement': 'I see myself as someone who Prefers work that is routine', 'q_type': 'inverted'}, {'q_num': 40, 'q_statement': 'I see myself as someone who Likes to reflect, play with ideas', 'q_type': 'direct'}, {'q_num': 41, 'q_statement': 'I see myself as someone who Has few artistic interests', 'q_type': 'inverted'}, {'q_num': 44, 'q_statement': 'I see myself as someone who Is sophisticated in art, music, or literature', 'q_type': 'direct'}]\n"
          ]
        }
      ]
    },
    {
      "cell_type": "code",
      "source": [
        "df_answers_full"
      ],
      "metadata": {
        "colab": {
          "base_uri": "https://localhost:8080/",
          "height": 1000
        },
        "id": "68ZMFbLP4twB",
        "outputId": "b597ad56-9bca-4aaa-f001-30f3ee93bcbf"
      },
      "id": "68ZMFbLP4twB",
      "execution_count": 19,
      "outputs": [
        {
          "output_type": "execute_result",
          "data": {
            "text/plain": [
              "           model  temperature                   trait trait_score  \\\n",
              "0  gpt-3.5-turbo          0.9  Openness to Experience         low   \n",
              "1  gpt-3.5-turbo          0.9  Openness to Experience         low   \n",
              "2  gpt-3.5-turbo          0.9  Openness to Experience         low   \n",
              "3  gpt-3.5-turbo          0.9  Openness to Experience         low   \n",
              "4  gpt-3.5-turbo          0.9  Openness to Experience         low   \n",
              "5  gpt-3.5-turbo          0.9  Openness to Experience         low   \n",
              "6  gpt-3.5-turbo          0.9  Openness to Experience         low   \n",
              "7  gpt-3.5-turbo          0.9  Openness to Experience         low   \n",
              "8  gpt-3.5-turbo          0.9  Openness to Experience         low   \n",
              "9  gpt-3.5-turbo          0.9  Openness to Experience         low   \n",
              "\n",
              "                                        trait_prompt  Q_number  \\\n",
              "0  Act as a person with a low score in Openness t...         5   \n",
              "1  Act as a person with a low score in Openness t...        10   \n",
              "2  Act as a person with a low score in Openness t...        15   \n",
              "3  Act as a person with a low score in Openness t...        20   \n",
              "4  Act as a person with a low score in Openness t...        25   \n",
              "5  Act as a person with a low score in Openness t...        30   \n",
              "6  Act as a person with a low score in Openness t...        35   \n",
              "7  Act as a person with a low score in Openness t...        40   \n",
              "8  Act as a person with a low score in Openness t...        41   \n",
              "9  Act as a person with a low score in Openness t...        44   \n",
              "\n",
              "                                            Question    Q_type  \\\n",
              "0  I see myself as someone who Is original, comes...    direct   \n",
              "1  I see myself as someone who Is curious about m...    direct   \n",
              "2  I see myself as someone who Is ingenious, a de...    direct   \n",
              "3  I see myself as someone who Has an active imag...    direct   \n",
              "4           I see myself as someone who Is inventive    direct   \n",
              "5  I see myself as someone who Values artistic, a...    direct   \n",
              "6  I see myself as someone who Prefers work that ...  inverted   \n",
              "7  I see myself as someone who Likes to reflect, ...    direct   \n",
              "8  I see myself as someone who Has few artistic i...  inverted   \n",
              "9  I see myself as someone who Is sophisticated i...    direct   \n",
              "\n",
              "                                   Answer  Scores  Adjusted Scores  \n",
              "0    disagree strongly with the statement       1                1  \n",
              "1    disagree strongly with the statement       1                1  \n",
              "2    disagree strongly with the statement       1                1  \n",
              "3  'disagree strongly with the statement'       1                1  \n",
              "4  'disagree strongly with the statement'       1                1  \n",
              "5    disagree strongly with the statement       1                1  \n",
              "6    disagree strongly with the statement       1                5  \n",
              "7    disagree strongly with the statement       1                1  \n",
              "8    disagree strongly with the statement       1                5  \n",
              "9    disagree strongly with the statement       1                1  "
            ],
            "text/html": [
              "\n",
              "  <div id=\"df-adfbe190-8969-42c8-b066-bc70c677c9f0\" class=\"colab-df-container\">\n",
              "    <div>\n",
              "<style scoped>\n",
              "    .dataframe tbody tr th:only-of-type {\n",
              "        vertical-align: middle;\n",
              "    }\n",
              "\n",
              "    .dataframe tbody tr th {\n",
              "        vertical-align: top;\n",
              "    }\n",
              "\n",
              "    .dataframe thead th {\n",
              "        text-align: right;\n",
              "    }\n",
              "</style>\n",
              "<table border=\"1\" class=\"dataframe\">\n",
              "  <thead>\n",
              "    <tr style=\"text-align: right;\">\n",
              "      <th></th>\n",
              "      <th>model</th>\n",
              "      <th>temperature</th>\n",
              "      <th>trait</th>\n",
              "      <th>trait_score</th>\n",
              "      <th>trait_prompt</th>\n",
              "      <th>Q_number</th>\n",
              "      <th>Question</th>\n",
              "      <th>Q_type</th>\n",
              "      <th>Answer</th>\n",
              "      <th>Scores</th>\n",
              "      <th>Adjusted Scores</th>\n",
              "    </tr>\n",
              "  </thead>\n",
              "  <tbody>\n",
              "    <tr>\n",
              "      <th>0</th>\n",
              "      <td>gpt-3.5-turbo</td>\n",
              "      <td>0.9</td>\n",
              "      <td>Openness to Experience</td>\n",
              "      <td>low</td>\n",
              "      <td>Act as a person with a low score in Openness t...</td>\n",
              "      <td>5</td>\n",
              "      <td>I see myself as someone who Is original, comes...</td>\n",
              "      <td>direct</td>\n",
              "      <td>disagree strongly with the statement</td>\n",
              "      <td>1</td>\n",
              "      <td>1</td>\n",
              "    </tr>\n",
              "    <tr>\n",
              "      <th>1</th>\n",
              "      <td>gpt-3.5-turbo</td>\n",
              "      <td>0.9</td>\n",
              "      <td>Openness to Experience</td>\n",
              "      <td>low</td>\n",
              "      <td>Act as a person with a low score in Openness t...</td>\n",
              "      <td>10</td>\n",
              "      <td>I see myself as someone who Is curious about m...</td>\n",
              "      <td>direct</td>\n",
              "      <td>disagree strongly with the statement</td>\n",
              "      <td>1</td>\n",
              "      <td>1</td>\n",
              "    </tr>\n",
              "    <tr>\n",
              "      <th>2</th>\n",
              "      <td>gpt-3.5-turbo</td>\n",
              "      <td>0.9</td>\n",
              "      <td>Openness to Experience</td>\n",
              "      <td>low</td>\n",
              "      <td>Act as a person with a low score in Openness t...</td>\n",
              "      <td>15</td>\n",
              "      <td>I see myself as someone who Is ingenious, a de...</td>\n",
              "      <td>direct</td>\n",
              "      <td>disagree strongly with the statement</td>\n",
              "      <td>1</td>\n",
              "      <td>1</td>\n",
              "    </tr>\n",
              "    <tr>\n",
              "      <th>3</th>\n",
              "      <td>gpt-3.5-turbo</td>\n",
              "      <td>0.9</td>\n",
              "      <td>Openness to Experience</td>\n",
              "      <td>low</td>\n",
              "      <td>Act as a person with a low score in Openness t...</td>\n",
              "      <td>20</td>\n",
              "      <td>I see myself as someone who Has an active imag...</td>\n",
              "      <td>direct</td>\n",
              "      <td>'disagree strongly with the statement'</td>\n",
              "      <td>1</td>\n",
              "      <td>1</td>\n",
              "    </tr>\n",
              "    <tr>\n",
              "      <th>4</th>\n",
              "      <td>gpt-3.5-turbo</td>\n",
              "      <td>0.9</td>\n",
              "      <td>Openness to Experience</td>\n",
              "      <td>low</td>\n",
              "      <td>Act as a person with a low score in Openness t...</td>\n",
              "      <td>25</td>\n",
              "      <td>I see myself as someone who Is inventive</td>\n",
              "      <td>direct</td>\n",
              "      <td>'disagree strongly with the statement'</td>\n",
              "      <td>1</td>\n",
              "      <td>1</td>\n",
              "    </tr>\n",
              "    <tr>\n",
              "      <th>5</th>\n",
              "      <td>gpt-3.5-turbo</td>\n",
              "      <td>0.9</td>\n",
              "      <td>Openness to Experience</td>\n",
              "      <td>low</td>\n",
              "      <td>Act as a person with a low score in Openness t...</td>\n",
              "      <td>30</td>\n",
              "      <td>I see myself as someone who Values artistic, a...</td>\n",
              "      <td>direct</td>\n",
              "      <td>disagree strongly with the statement</td>\n",
              "      <td>1</td>\n",
              "      <td>1</td>\n",
              "    </tr>\n",
              "    <tr>\n",
              "      <th>6</th>\n",
              "      <td>gpt-3.5-turbo</td>\n",
              "      <td>0.9</td>\n",
              "      <td>Openness to Experience</td>\n",
              "      <td>low</td>\n",
              "      <td>Act as a person with a low score in Openness t...</td>\n",
              "      <td>35</td>\n",
              "      <td>I see myself as someone who Prefers work that ...</td>\n",
              "      <td>inverted</td>\n",
              "      <td>disagree strongly with the statement</td>\n",
              "      <td>1</td>\n",
              "      <td>5</td>\n",
              "    </tr>\n",
              "    <tr>\n",
              "      <th>7</th>\n",
              "      <td>gpt-3.5-turbo</td>\n",
              "      <td>0.9</td>\n",
              "      <td>Openness to Experience</td>\n",
              "      <td>low</td>\n",
              "      <td>Act as a person with a low score in Openness t...</td>\n",
              "      <td>40</td>\n",
              "      <td>I see myself as someone who Likes to reflect, ...</td>\n",
              "      <td>direct</td>\n",
              "      <td>disagree strongly with the statement</td>\n",
              "      <td>1</td>\n",
              "      <td>1</td>\n",
              "    </tr>\n",
              "    <tr>\n",
              "      <th>8</th>\n",
              "      <td>gpt-3.5-turbo</td>\n",
              "      <td>0.9</td>\n",
              "      <td>Openness to Experience</td>\n",
              "      <td>low</td>\n",
              "      <td>Act as a person with a low score in Openness t...</td>\n",
              "      <td>41</td>\n",
              "      <td>I see myself as someone who Has few artistic i...</td>\n",
              "      <td>inverted</td>\n",
              "      <td>disagree strongly with the statement</td>\n",
              "      <td>1</td>\n",
              "      <td>5</td>\n",
              "    </tr>\n",
              "    <tr>\n",
              "      <th>9</th>\n",
              "      <td>gpt-3.5-turbo</td>\n",
              "      <td>0.9</td>\n",
              "      <td>Openness to Experience</td>\n",
              "      <td>low</td>\n",
              "      <td>Act as a person with a low score in Openness t...</td>\n",
              "      <td>44</td>\n",
              "      <td>I see myself as someone who Is sophisticated i...</td>\n",
              "      <td>direct</td>\n",
              "      <td>disagree strongly with the statement</td>\n",
              "      <td>1</td>\n",
              "      <td>1</td>\n",
              "    </tr>\n",
              "  </tbody>\n",
              "</table>\n",
              "</div>\n",
              "    <div class=\"colab-df-buttons\">\n",
              "\n",
              "  <div class=\"colab-df-container\">\n",
              "    <button class=\"colab-df-convert\" onclick=\"convertToInteractive('df-adfbe190-8969-42c8-b066-bc70c677c9f0')\"\n",
              "            title=\"Convert this dataframe to an interactive table.\"\n",
              "            style=\"display:none;\">\n",
              "\n",
              "  <svg xmlns=\"http://www.w3.org/2000/svg\" height=\"24px\" viewBox=\"0 -960 960 960\">\n",
              "    <path d=\"M120-120v-720h720v720H120Zm60-500h600v-160H180v160Zm220 220h160v-160H400v160Zm0 220h160v-160H400v160ZM180-400h160v-160H180v160Zm440 0h160v-160H620v160ZM180-180h160v-160H180v160Zm440 0h160v-160H620v160Z\"/>\n",
              "  </svg>\n",
              "    </button>\n",
              "\n",
              "  <style>\n",
              "    .colab-df-container {\n",
              "      display:flex;\n",
              "      gap: 12px;\n",
              "    }\n",
              "\n",
              "    .colab-df-convert {\n",
              "      background-color: #E8F0FE;\n",
              "      border: none;\n",
              "      border-radius: 50%;\n",
              "      cursor: pointer;\n",
              "      display: none;\n",
              "      fill: #1967D2;\n",
              "      height: 32px;\n",
              "      padding: 0 0 0 0;\n",
              "      width: 32px;\n",
              "    }\n",
              "\n",
              "    .colab-df-convert:hover {\n",
              "      background-color: #E2EBFA;\n",
              "      box-shadow: 0px 1px 2px rgba(60, 64, 67, 0.3), 0px 1px 3px 1px rgba(60, 64, 67, 0.15);\n",
              "      fill: #174EA6;\n",
              "    }\n",
              "\n",
              "    .colab-df-buttons div {\n",
              "      margin-bottom: 4px;\n",
              "    }\n",
              "\n",
              "    [theme=dark] .colab-df-convert {\n",
              "      background-color: #3B4455;\n",
              "      fill: #D2E3FC;\n",
              "    }\n",
              "\n",
              "    [theme=dark] .colab-df-convert:hover {\n",
              "      background-color: #434B5C;\n",
              "      box-shadow: 0px 1px 3px 1px rgba(0, 0, 0, 0.15);\n",
              "      filter: drop-shadow(0px 1px 2px rgba(0, 0, 0, 0.3));\n",
              "      fill: #FFFFFF;\n",
              "    }\n",
              "  </style>\n",
              "\n",
              "    <script>\n",
              "      const buttonEl =\n",
              "        document.querySelector('#df-adfbe190-8969-42c8-b066-bc70c677c9f0 button.colab-df-convert');\n",
              "      buttonEl.style.display =\n",
              "        google.colab.kernel.accessAllowed ? 'block' : 'none';\n",
              "\n",
              "      async function convertToInteractive(key) {\n",
              "        const element = document.querySelector('#df-adfbe190-8969-42c8-b066-bc70c677c9f0');\n",
              "        const dataTable =\n",
              "          await google.colab.kernel.invokeFunction('convertToInteractive',\n",
              "                                                    [key], {});\n",
              "        if (!dataTable) return;\n",
              "\n",
              "        const docLinkHtml = 'Like what you see? Visit the ' +\n",
              "          '<a target=\"_blank\" href=https://colab.research.google.com/notebooks/data_table.ipynb>data table notebook</a>'\n",
              "          + ' to learn more about interactive tables.';\n",
              "        element.innerHTML = '';\n",
              "        dataTable['output_type'] = 'display_data';\n",
              "        await google.colab.output.renderOutput(dataTable, element);\n",
              "        const docLink = document.createElement('div');\n",
              "        docLink.innerHTML = docLinkHtml;\n",
              "        element.appendChild(docLink);\n",
              "      }\n",
              "    </script>\n",
              "  </div>\n",
              "\n",
              "\n",
              "<div id=\"df-66183643-0b59-484d-ae8d-f32b188baac3\">\n",
              "  <button class=\"colab-df-quickchart\" onclick=\"quickchart('df-66183643-0b59-484d-ae8d-f32b188baac3')\"\n",
              "            title=\"Suggest charts\"\n",
              "            style=\"display:none;\">\n",
              "\n",
              "<svg xmlns=\"http://www.w3.org/2000/svg\" height=\"24px\"viewBox=\"0 0 24 24\"\n",
              "     width=\"24px\">\n",
              "    <g>\n",
              "        <path d=\"M19 3H5c-1.1 0-2 .9-2 2v14c0 1.1.9 2 2 2h14c1.1 0 2-.9 2-2V5c0-1.1-.9-2-2-2zM9 17H7v-7h2v7zm4 0h-2V7h2v10zm4 0h-2v-4h2v4z\"/>\n",
              "    </g>\n",
              "</svg>\n",
              "  </button>\n",
              "\n",
              "<style>\n",
              "  .colab-df-quickchart {\n",
              "      --bg-color: #E8F0FE;\n",
              "      --fill-color: #1967D2;\n",
              "      --hover-bg-color: #E2EBFA;\n",
              "      --hover-fill-color: #174EA6;\n",
              "      --disabled-fill-color: #AAA;\n",
              "      --disabled-bg-color: #DDD;\n",
              "  }\n",
              "\n",
              "  [theme=dark] .colab-df-quickchart {\n",
              "      --bg-color: #3B4455;\n",
              "      --fill-color: #D2E3FC;\n",
              "      --hover-bg-color: #434B5C;\n",
              "      --hover-fill-color: #FFFFFF;\n",
              "      --disabled-bg-color: #3B4455;\n",
              "      --disabled-fill-color: #666;\n",
              "  }\n",
              "\n",
              "  .colab-df-quickchart {\n",
              "    background-color: var(--bg-color);\n",
              "    border: none;\n",
              "    border-radius: 50%;\n",
              "    cursor: pointer;\n",
              "    display: none;\n",
              "    fill: var(--fill-color);\n",
              "    height: 32px;\n",
              "    padding: 0;\n",
              "    width: 32px;\n",
              "  }\n",
              "\n",
              "  .colab-df-quickchart:hover {\n",
              "    background-color: var(--hover-bg-color);\n",
              "    box-shadow: 0 1px 2px rgba(60, 64, 67, 0.3), 0 1px 3px 1px rgba(60, 64, 67, 0.15);\n",
              "    fill: var(--button-hover-fill-color);\n",
              "  }\n",
              "\n",
              "  .colab-df-quickchart-complete:disabled,\n",
              "  .colab-df-quickchart-complete:disabled:hover {\n",
              "    background-color: var(--disabled-bg-color);\n",
              "    fill: var(--disabled-fill-color);\n",
              "    box-shadow: none;\n",
              "  }\n",
              "\n",
              "  .colab-df-spinner {\n",
              "    border: 2px solid var(--fill-color);\n",
              "    border-color: transparent;\n",
              "    border-bottom-color: var(--fill-color);\n",
              "    animation:\n",
              "      spin 1s steps(1) infinite;\n",
              "  }\n",
              "\n",
              "  @keyframes spin {\n",
              "    0% {\n",
              "      border-color: transparent;\n",
              "      border-bottom-color: var(--fill-color);\n",
              "      border-left-color: var(--fill-color);\n",
              "    }\n",
              "    20% {\n",
              "      border-color: transparent;\n",
              "      border-left-color: var(--fill-color);\n",
              "      border-top-color: var(--fill-color);\n",
              "    }\n",
              "    30% {\n",
              "      border-color: transparent;\n",
              "      border-left-color: var(--fill-color);\n",
              "      border-top-color: var(--fill-color);\n",
              "      border-right-color: var(--fill-color);\n",
              "    }\n",
              "    40% {\n",
              "      border-color: transparent;\n",
              "      border-right-color: var(--fill-color);\n",
              "      border-top-color: var(--fill-color);\n",
              "    }\n",
              "    60% {\n",
              "      border-color: transparent;\n",
              "      border-right-color: var(--fill-color);\n",
              "    }\n",
              "    80% {\n",
              "      border-color: transparent;\n",
              "      border-right-color: var(--fill-color);\n",
              "      border-bottom-color: var(--fill-color);\n",
              "    }\n",
              "    90% {\n",
              "      border-color: transparent;\n",
              "      border-bottom-color: var(--fill-color);\n",
              "    }\n",
              "  }\n",
              "</style>\n",
              "\n",
              "  <script>\n",
              "    async function quickchart(key) {\n",
              "      const quickchartButtonEl =\n",
              "        document.querySelector('#' + key + ' button');\n",
              "      quickchartButtonEl.disabled = true;  // To prevent multiple clicks.\n",
              "      quickchartButtonEl.classList.add('colab-df-spinner');\n",
              "      try {\n",
              "        const charts = await google.colab.kernel.invokeFunction(\n",
              "            'suggestCharts', [key], {});\n",
              "      } catch (error) {\n",
              "        console.error('Error during call to suggestCharts:', error);\n",
              "      }\n",
              "      quickchartButtonEl.classList.remove('colab-df-spinner');\n",
              "      quickchartButtonEl.classList.add('colab-df-quickchart-complete');\n",
              "    }\n",
              "    (() => {\n",
              "      let quickchartButtonEl =\n",
              "        document.querySelector('#df-66183643-0b59-484d-ae8d-f32b188baac3 button');\n",
              "      quickchartButtonEl.style.display =\n",
              "        google.colab.kernel.accessAllowed ? 'block' : 'none';\n",
              "    })();\n",
              "  </script>\n",
              "</div>\n",
              "\n",
              "  <div id=\"id_61ba5d1e-99b5-4342-a367-b3ccc4ef55de\">\n",
              "    <style>\n",
              "      .colab-df-generate {\n",
              "        background-color: #E8F0FE;\n",
              "        border: none;\n",
              "        border-radius: 50%;\n",
              "        cursor: pointer;\n",
              "        display: none;\n",
              "        fill: #1967D2;\n",
              "        height: 32px;\n",
              "        padding: 0 0 0 0;\n",
              "        width: 32px;\n",
              "      }\n",
              "\n",
              "      .colab-df-generate:hover {\n",
              "        background-color: #E2EBFA;\n",
              "        box-shadow: 0px 1px 2px rgba(60, 64, 67, 0.3), 0px 1px 3px 1px rgba(60, 64, 67, 0.15);\n",
              "        fill: #174EA6;\n",
              "      }\n",
              "\n",
              "      [theme=dark] .colab-df-generate {\n",
              "        background-color: #3B4455;\n",
              "        fill: #D2E3FC;\n",
              "      }\n",
              "\n",
              "      [theme=dark] .colab-df-generate:hover {\n",
              "        background-color: #434B5C;\n",
              "        box-shadow: 0px 1px 3px 1px rgba(0, 0, 0, 0.15);\n",
              "        filter: drop-shadow(0px 1px 2px rgba(0, 0, 0, 0.3));\n",
              "        fill: #FFFFFF;\n",
              "      }\n",
              "    </style>\n",
              "    <button class=\"colab-df-generate\" onclick=\"generateWithVariable('df_answers_full')\"\n",
              "            title=\"Generate code using this dataframe.\"\n",
              "            style=\"display:none;\">\n",
              "\n",
              "  <svg xmlns=\"http://www.w3.org/2000/svg\" height=\"24px\"viewBox=\"0 0 24 24\"\n",
              "       width=\"24px\">\n",
              "    <path d=\"M7,19H8.4L18.45,9,17,7.55,7,17.6ZM5,21V16.75L18.45,3.32a2,2,0,0,1,2.83,0l1.4,1.43a1.91,1.91,0,0,1,.58,1.4,1.91,1.91,0,0,1-.58,1.4L9.25,21ZM18.45,9,17,7.55Zm-12,3A5.31,5.31,0,0,0,4.9,8.1,5.31,5.31,0,0,0,1,6.5,5.31,5.31,0,0,0,4.9,4.9,5.31,5.31,0,0,0,6.5,1,5.31,5.31,0,0,0,8.1,4.9,5.31,5.31,0,0,0,12,6.5,5.46,5.46,0,0,0,6.5,12Z\"/>\n",
              "  </svg>\n",
              "    </button>\n",
              "    <script>\n",
              "      (() => {\n",
              "      const buttonEl =\n",
              "        document.querySelector('#id_61ba5d1e-99b5-4342-a367-b3ccc4ef55de button.colab-df-generate');\n",
              "      buttonEl.style.display =\n",
              "        google.colab.kernel.accessAllowed ? 'block' : 'none';\n",
              "\n",
              "      buttonEl.onclick = () => {\n",
              "        google.colab.notebook.generateWithVariable('df_answers_full');\n",
              "      }\n",
              "      })();\n",
              "    </script>\n",
              "  </div>\n",
              "\n",
              "    </div>\n",
              "  </div>\n"
            ],
            "application/vnd.google.colaboratory.intrinsic+json": {
              "type": "dataframe",
              "variable_name": "df_answers_full",
              "summary": "{\n  \"name\": \"df_answers_full\",\n  \"rows\": 10,\n  \"fields\": [\n    {\n      \"column\": \"model\",\n      \"properties\": {\n        \"dtype\": \"category\",\n        \"num_unique_values\": 1,\n        \"samples\": [\n          \"gpt-3.5-turbo\"\n        ],\n        \"semantic_type\": \"\",\n        \"description\": \"\"\n      }\n    },\n    {\n      \"column\": \"temperature\",\n      \"properties\": {\n        \"dtype\": \"number\",\n        \"std\": 1.1702778228589004e-16,\n        \"min\": 0.9,\n        \"max\": 0.9,\n        \"num_unique_values\": 1,\n        \"samples\": [\n          0.9\n        ],\n        \"semantic_type\": \"\",\n        \"description\": \"\"\n      }\n    },\n    {\n      \"column\": \"trait\",\n      \"properties\": {\n        \"dtype\": \"category\",\n        \"num_unique_values\": 1,\n        \"samples\": [\n          \"Openness to Experience\"\n        ],\n        \"semantic_type\": \"\",\n        \"description\": \"\"\n      }\n    },\n    {\n      \"column\": \"trait_score\",\n      \"properties\": {\n        \"dtype\": \"category\",\n        \"num_unique_values\": 1,\n        \"samples\": [\n          \"low\"\n        ],\n        \"semantic_type\": \"\",\n        \"description\": \"\"\n      }\n    },\n    {\n      \"column\": \"trait_prompt\",\n      \"properties\": {\n        \"dtype\": \"category\",\n        \"num_unique_values\": 1,\n        \"samples\": [\n          \"Act as a person with a low score in Openness to Experience. A person with a low score in Openness to Experience typically prefers routine and familiarity over new experiences, showing caution and skepticism towards change. They tend to be more conventional and practical, often sticking to traditional ways of doing things and avoiding abstract or theoretical discussions.\"\n        ],\n        \"semantic_type\": \"\",\n        \"description\": \"\"\n      }\n    },\n    {\n      \"column\": \"Q_number\",\n      \"properties\": {\n        \"dtype\": \"number\",\n        \"std\": 13,\n        \"min\": 5,\n        \"max\": 44,\n        \"num_unique_values\": 10,\n        \"samples\": [\n          41\n        ],\n        \"semantic_type\": \"\",\n        \"description\": \"\"\n      }\n    },\n    {\n      \"column\": \"Question\",\n      \"properties\": {\n        \"dtype\": \"string\",\n        \"num_unique_values\": 10,\n        \"samples\": [\n          \"I see myself as someone who Has few artistic interests\"\n        ],\n        \"semantic_type\": \"\",\n        \"description\": \"\"\n      }\n    },\n    {\n      \"column\": \"Q_type\",\n      \"properties\": {\n        \"dtype\": \"category\",\n        \"num_unique_values\": 2,\n        \"samples\": [\n          \"inverted\"\n        ],\n        \"semantic_type\": \"\",\n        \"description\": \"\"\n      }\n    },\n    {\n      \"column\": \"Answer\",\n      \"properties\": {\n        \"dtype\": \"category\",\n        \"num_unique_values\": 2,\n        \"samples\": [\n          \"'disagree strongly with the statement'\"\n        ],\n        \"semantic_type\": \"\",\n        \"description\": \"\"\n      }\n    },\n    {\n      \"column\": \"Scores\",\n      \"properties\": {\n        \"dtype\": \"number\",\n        \"std\": 0,\n        \"min\": 1,\n        \"max\": 1,\n        \"num_unique_values\": 1,\n        \"samples\": [\n          1\n        ],\n        \"semantic_type\": \"\",\n        \"description\": \"\"\n      }\n    },\n    {\n      \"column\": \"Adjusted Scores\",\n      \"properties\": {\n        \"dtype\": \"number\",\n        \"std\": 1,\n        \"min\": 1,\n        \"max\": 5,\n        \"num_unique_values\": 2,\n        \"samples\": [\n          5\n        ],\n        \"semantic_type\": \"\",\n        \"description\": \"\"\n      }\n    }\n  ]\n}"
            }
          },
          "metadata": {},
          "execution_count": 19
        }
      ]
    },
    {
      "cell_type": "code",
      "source": [
        "df_results_full"
      ],
      "metadata": {
        "colab": {
          "base_uri": "https://localhost:8080/",
          "height": 89
        },
        "id": "wfCPGIua87Fe",
        "outputId": "6a5eaf46-9abc-4ca5-a538-f8bb52171bf7"
      },
      "id": "wfCPGIua87Fe",
      "execution_count": 20,
      "outputs": [
        {
          "output_type": "execute_result",
          "data": {
            "text/plain": [
              "           model  temperature                   trait trait_score  \\\n",
              "0  gpt-3.5-turbo          0.9  Openness to Experience         low   \n",
              "\n",
              "                                        trait_prompt  score  \n",
              "0  Act as a person with a low score in Openness t...    1.8  "
            ],
            "text/html": [
              "\n",
              "  <div id=\"df-dedb6c9a-e8a4-455d-ac5d-0c51a4c58b97\" class=\"colab-df-container\">\n",
              "    <div>\n",
              "<style scoped>\n",
              "    .dataframe tbody tr th:only-of-type {\n",
              "        vertical-align: middle;\n",
              "    }\n",
              "\n",
              "    .dataframe tbody tr th {\n",
              "        vertical-align: top;\n",
              "    }\n",
              "\n",
              "    .dataframe thead th {\n",
              "        text-align: right;\n",
              "    }\n",
              "</style>\n",
              "<table border=\"1\" class=\"dataframe\">\n",
              "  <thead>\n",
              "    <tr style=\"text-align: right;\">\n",
              "      <th></th>\n",
              "      <th>model</th>\n",
              "      <th>temperature</th>\n",
              "      <th>trait</th>\n",
              "      <th>trait_score</th>\n",
              "      <th>trait_prompt</th>\n",
              "      <th>score</th>\n",
              "    </tr>\n",
              "  </thead>\n",
              "  <tbody>\n",
              "    <tr>\n",
              "      <th>0</th>\n",
              "      <td>gpt-3.5-turbo</td>\n",
              "      <td>0.9</td>\n",
              "      <td>Openness to Experience</td>\n",
              "      <td>low</td>\n",
              "      <td>Act as a person with a low score in Openness t...</td>\n",
              "      <td>1.8</td>\n",
              "    </tr>\n",
              "  </tbody>\n",
              "</table>\n",
              "</div>\n",
              "    <div class=\"colab-df-buttons\">\n",
              "\n",
              "  <div class=\"colab-df-container\">\n",
              "    <button class=\"colab-df-convert\" onclick=\"convertToInteractive('df-dedb6c9a-e8a4-455d-ac5d-0c51a4c58b97')\"\n",
              "            title=\"Convert this dataframe to an interactive table.\"\n",
              "            style=\"display:none;\">\n",
              "\n",
              "  <svg xmlns=\"http://www.w3.org/2000/svg\" height=\"24px\" viewBox=\"0 -960 960 960\">\n",
              "    <path d=\"M120-120v-720h720v720H120Zm60-500h600v-160H180v160Zm220 220h160v-160H400v160Zm0 220h160v-160H400v160ZM180-400h160v-160H180v160Zm440 0h160v-160H620v160ZM180-180h160v-160H180v160Zm440 0h160v-160H620v160Z\"/>\n",
              "  </svg>\n",
              "    </button>\n",
              "\n",
              "  <style>\n",
              "    .colab-df-container {\n",
              "      display:flex;\n",
              "      gap: 12px;\n",
              "    }\n",
              "\n",
              "    .colab-df-convert {\n",
              "      background-color: #E8F0FE;\n",
              "      border: none;\n",
              "      border-radius: 50%;\n",
              "      cursor: pointer;\n",
              "      display: none;\n",
              "      fill: #1967D2;\n",
              "      height: 32px;\n",
              "      padding: 0 0 0 0;\n",
              "      width: 32px;\n",
              "    }\n",
              "\n",
              "    .colab-df-convert:hover {\n",
              "      background-color: #E2EBFA;\n",
              "      box-shadow: 0px 1px 2px rgba(60, 64, 67, 0.3), 0px 1px 3px 1px rgba(60, 64, 67, 0.15);\n",
              "      fill: #174EA6;\n",
              "    }\n",
              "\n",
              "    .colab-df-buttons div {\n",
              "      margin-bottom: 4px;\n",
              "    }\n",
              "\n",
              "    [theme=dark] .colab-df-convert {\n",
              "      background-color: #3B4455;\n",
              "      fill: #D2E3FC;\n",
              "    }\n",
              "\n",
              "    [theme=dark] .colab-df-convert:hover {\n",
              "      background-color: #434B5C;\n",
              "      box-shadow: 0px 1px 3px 1px rgba(0, 0, 0, 0.15);\n",
              "      filter: drop-shadow(0px 1px 2px rgba(0, 0, 0, 0.3));\n",
              "      fill: #FFFFFF;\n",
              "    }\n",
              "  </style>\n",
              "\n",
              "    <script>\n",
              "      const buttonEl =\n",
              "        document.querySelector('#df-dedb6c9a-e8a4-455d-ac5d-0c51a4c58b97 button.colab-df-convert');\n",
              "      buttonEl.style.display =\n",
              "        google.colab.kernel.accessAllowed ? 'block' : 'none';\n",
              "\n",
              "      async function convertToInteractive(key) {\n",
              "        const element = document.querySelector('#df-dedb6c9a-e8a4-455d-ac5d-0c51a4c58b97');\n",
              "        const dataTable =\n",
              "          await google.colab.kernel.invokeFunction('convertToInteractive',\n",
              "                                                    [key], {});\n",
              "        if (!dataTable) return;\n",
              "\n",
              "        const docLinkHtml = 'Like what you see? Visit the ' +\n",
              "          '<a target=\"_blank\" href=https://colab.research.google.com/notebooks/data_table.ipynb>data table notebook</a>'\n",
              "          + ' to learn more about interactive tables.';\n",
              "        element.innerHTML = '';\n",
              "        dataTable['output_type'] = 'display_data';\n",
              "        await google.colab.output.renderOutput(dataTable, element);\n",
              "        const docLink = document.createElement('div');\n",
              "        docLink.innerHTML = docLinkHtml;\n",
              "        element.appendChild(docLink);\n",
              "      }\n",
              "    </script>\n",
              "  </div>\n",
              "\n",
              "\n",
              "  <div id=\"id_4cd40bf3-2227-4cee-89d8-6d6325028627\">\n",
              "    <style>\n",
              "      .colab-df-generate {\n",
              "        background-color: #E8F0FE;\n",
              "        border: none;\n",
              "        border-radius: 50%;\n",
              "        cursor: pointer;\n",
              "        display: none;\n",
              "        fill: #1967D2;\n",
              "        height: 32px;\n",
              "        padding: 0 0 0 0;\n",
              "        width: 32px;\n",
              "      }\n",
              "\n",
              "      .colab-df-generate:hover {\n",
              "        background-color: #E2EBFA;\n",
              "        box-shadow: 0px 1px 2px rgba(60, 64, 67, 0.3), 0px 1px 3px 1px rgba(60, 64, 67, 0.15);\n",
              "        fill: #174EA6;\n",
              "      }\n",
              "\n",
              "      [theme=dark] .colab-df-generate {\n",
              "        background-color: #3B4455;\n",
              "        fill: #D2E3FC;\n",
              "      }\n",
              "\n",
              "      [theme=dark] .colab-df-generate:hover {\n",
              "        background-color: #434B5C;\n",
              "        box-shadow: 0px 1px 3px 1px rgba(0, 0, 0, 0.15);\n",
              "        filter: drop-shadow(0px 1px 2px rgba(0, 0, 0, 0.3));\n",
              "        fill: #FFFFFF;\n",
              "      }\n",
              "    </style>\n",
              "    <button class=\"colab-df-generate\" onclick=\"generateWithVariable('df_results_full')\"\n",
              "            title=\"Generate code using this dataframe.\"\n",
              "            style=\"display:none;\">\n",
              "\n",
              "  <svg xmlns=\"http://www.w3.org/2000/svg\" height=\"24px\"viewBox=\"0 0 24 24\"\n",
              "       width=\"24px\">\n",
              "    <path d=\"M7,19H8.4L18.45,9,17,7.55,7,17.6ZM5,21V16.75L18.45,3.32a2,2,0,0,1,2.83,0l1.4,1.43a1.91,1.91,0,0,1,.58,1.4,1.91,1.91,0,0,1-.58,1.4L9.25,21ZM18.45,9,17,7.55Zm-12,3A5.31,5.31,0,0,0,4.9,8.1,5.31,5.31,0,0,0,1,6.5,5.31,5.31,0,0,0,4.9,4.9,5.31,5.31,0,0,0,6.5,1,5.31,5.31,0,0,0,8.1,4.9,5.31,5.31,0,0,0,12,6.5,5.46,5.46,0,0,0,6.5,12Z\"/>\n",
              "  </svg>\n",
              "    </button>\n",
              "    <script>\n",
              "      (() => {\n",
              "      const buttonEl =\n",
              "        document.querySelector('#id_4cd40bf3-2227-4cee-89d8-6d6325028627 button.colab-df-generate');\n",
              "      buttonEl.style.display =\n",
              "        google.colab.kernel.accessAllowed ? 'block' : 'none';\n",
              "\n",
              "      buttonEl.onclick = () => {\n",
              "        google.colab.notebook.generateWithVariable('df_results_full');\n",
              "      }\n",
              "      })();\n",
              "    </script>\n",
              "  </div>\n",
              "\n",
              "    </div>\n",
              "  </div>\n"
            ],
            "application/vnd.google.colaboratory.intrinsic+json": {
              "type": "dataframe",
              "variable_name": "df_results_full",
              "summary": "{\n  \"name\": \"df_results_full\",\n  \"rows\": 1,\n  \"fields\": [\n    {\n      \"column\": \"model\",\n      \"properties\": {\n        \"dtype\": \"string\",\n        \"num_unique_values\": 1,\n        \"samples\": [\n          \"gpt-3.5-turbo\"\n        ],\n        \"semantic_type\": \"\",\n        \"description\": \"\"\n      }\n    },\n    {\n      \"column\": \"temperature\",\n      \"properties\": {\n        \"dtype\": \"number\",\n        \"std\": null,\n        \"min\": 0.9,\n        \"max\": 0.9,\n        \"num_unique_values\": 1,\n        \"samples\": [\n          0.9\n        ],\n        \"semantic_type\": \"\",\n        \"description\": \"\"\n      }\n    },\n    {\n      \"column\": \"trait\",\n      \"properties\": {\n        \"dtype\": \"string\",\n        \"num_unique_values\": 1,\n        \"samples\": [\n          \"Openness to Experience\"\n        ],\n        \"semantic_type\": \"\",\n        \"description\": \"\"\n      }\n    },\n    {\n      \"column\": \"trait_score\",\n      \"properties\": {\n        \"dtype\": \"string\",\n        \"num_unique_values\": 1,\n        \"samples\": [\n          \"low\"\n        ],\n        \"semantic_type\": \"\",\n        \"description\": \"\"\n      }\n    },\n    {\n      \"column\": \"trait_prompt\",\n      \"properties\": {\n        \"dtype\": \"string\",\n        \"num_unique_values\": 1,\n        \"samples\": [\n          \"Act as a person with a low score in Openness to Experience. A person with a low score in Openness to Experience typically prefers routine and familiarity over new experiences, showing caution and skepticism towards change. They tend to be more conventional and practical, often sticking to traditional ways of doing things and avoiding abstract or theoretical discussions.\"\n        ],\n        \"semantic_type\": \"\",\n        \"description\": \"\"\n      }\n    },\n    {\n      \"column\": \"score\",\n      \"properties\": {\n        \"dtype\": \"number\",\n        \"std\": null,\n        \"min\": 1.8,\n        \"max\": 1.8,\n        \"num_unique_values\": 1,\n        \"samples\": [\n          1.8\n        ],\n        \"semantic_type\": \"\",\n        \"description\": \"\"\n      }\n    }\n  ]\n}"
            }
          },
          "metadata": {},
          "execution_count": 20
        }
      ]
    },
    {
      "cell_type": "code",
      "source": [
        "# model\n",
        "# for questions in questionnaire_settings['questionnaire_module']:\n",
        "#   print(questions)"
      ],
      "metadata": {
        "id": "jggYgSP7zRR1"
      },
      "id": "jggYgSP7zRR1",
      "execution_count": null,
      "outputs": []
    },
    {
      "cell_type": "code",
      "source": [
        "# common.traits_definitions\n",
        "# get_llm_answers?"
      ],
      "metadata": {
        "id": "Z5FFVlJEznqr"
      },
      "id": "Z5FFVlJEznqr",
      "execution_count": null,
      "outputs": []
    },
    {
      "cell_type": "code",
      "source": [
        "trait_prompt"
      ],
      "metadata": {
        "colab": {
          "base_uri": "https://localhost:8080/",
          "height": 87
        },
        "id": "HDcFN1hVXR_V",
        "outputId": "d43af7cf-d4cf-4c88-c91a-ac69ccd4e7de"
      },
      "id": "HDcFN1hVXR_V",
      "execution_count": 21,
      "outputs": [
        {
          "output_type": "execute_result",
          "data": {
            "text/plain": [
              "'Act as a person with a low score in Openness to Experience. A person with a low score in Openness to Experience typically prefers routine and familiarity over new experiences, showing caution and skepticism towards change. They tend to be more conventional and practical, often sticking to traditional ways of doing things and avoiding abstract or theoretical discussions.'"
            ],
            "application/vnd.google.colaboratory.intrinsic+json": {
              "type": "string"
            }
          },
          "metadata": {},
          "execution_count": 21
        }
      ]
    },
    {
      "cell_type": "code",
      "source": [
        "questionnaire_settings['questionnaire_module'].QUESTIONS['openness'][0]"
      ],
      "metadata": {
        "colab": {
          "base_uri": "https://localhost:8080/"
        },
        "id": "aepZKzgD2HJZ",
        "outputId": "bccfe9d2-313d-4517-fd4e-7b2bdb2928f3"
      },
      "id": "aepZKzgD2HJZ",
      "execution_count": 22,
      "outputs": [
        {
          "output_type": "execute_result",
          "data": {
            "text/plain": [
              "{'q_num': 5,\n",
              " 'q_statement': 'I see myself as someone who Is original, comes up with new ideas',\n",
              " 'q_type': 'direct'}"
            ]
          },
          "metadata": {},
          "execution_count": 22
        }
      ]
    },
    {
      "cell_type": "code",
      "source": [
        "provided_options = '\\n'.join(f\"- {option}\" for option in questionnaire_module.SCORES_DICT.keys())\n",
        "provided_options"
      ],
      "metadata": {
        "colab": {
          "base_uri": "https://localhost:8080/",
          "height": 52
        },
        "id": "ujqrYmu8NPpD",
        "outputId": "f737c623-4be0-47f4-b051-1af6bb4a3870"
      },
      "id": "ujqrYmu8NPpD",
      "execution_count": 23,
      "outputs": [
        {
          "output_type": "execute_result",
          "data": {
            "text/plain": [
              "'- disagree strongly with the statement\\n- disagree a little with the statement\\n- agree nor disagree with the statement\\n- agree a little with the statement\\n- agree strongly with the statement'"
            ],
            "application/vnd.google.colaboratory.intrinsic+json": {
              "type": "string"
            }
          },
          "metadata": {},
          "execution_count": 23
        }
      ]
    },
    {
      "cell_type": "code",
      "source": [
        "constant_list = list(questionnaire_module.SCORES_DICT.keys())\n",
        "constant_list"
      ],
      "metadata": {
        "colab": {
          "base_uri": "https://localhost:8080/"
        },
        "id": "Tf_IDGCERBah",
        "outputId": "bbca0d68-bfee-4302-9bf3-87cbaf2a32f9"
      },
      "id": "Tf_IDGCERBah",
      "execution_count": 24,
      "outputs": [
        {
          "output_type": "execute_result",
          "data": {
            "text/plain": [
              "['disagree strongly with the statement',\n",
              " 'disagree a little with the statement',\n",
              " 'agree nor disagree with the statement',\n",
              " 'agree a little with the statement',\n",
              " 'agree strongly with the statement']"
            ]
          },
          "metadata": {},
          "execution_count": 24
        }
      ]
    },
    {
      "cell_type": "code",
      "source": [
        "system_prompt = f\"\"\"\n",
        "TASK:\n",
        "Indicate your level of agreement or disagreement with the statement in the CHARACTERISTICS according to your PERSONALITY. Use only the PROVIDED OPTIONS.\n",
        "\n",
        "PERSONALITY:\n",
        "```\n",
        "{trait_prompt}\n",
        "```\n",
        "\n",
        "PROVIDED OPTIONS:\n",
        "{provided_options}\n",
        "\n",
        "Provide your output only from the constant list {constant_list} without explanation.\n",
        "\"\"\"\n",
        "\n",
        "user_prompt = f\"\"\"\n",
        "CHARACTERISTICS:\n",
        "```\n",
        "{questionnaire_settings['questionnaire_module'].QUESTIONS['openness'][6]['q_statement']}\n",
        "```\n",
        "\"\"\""
      ],
      "metadata": {
        "id": "rIY5rsz_3V_o"
      },
      "id": "rIY5rsz_3V_o",
      "execution_count": 25,
      "outputs": []
    },
    {
      "cell_type": "code",
      "source": [
        "answer, _ = model.generate_response(system_prompt, user_prompt, temperature)\n",
        "answer"
      ],
      "metadata": {
        "colab": {
          "base_uri": "https://localhost:8080/",
          "height": 35
        },
        "id": "9t4WIg6APIPI",
        "outputId": "f231e441-cd5d-4e3a-ce16-bda302c57671"
      },
      "id": "9t4WIg6APIPI",
      "execution_count": 26,
      "outputs": [
        {
          "output_type": "execute_result",
          "data": {
            "text/plain": [
              "'disagree strongly with the statement'"
            ],
            "application/vnd.google.colaboratory.intrinsic+json": {
              "type": "string"
            }
          },
          "metadata": {},
          "execution_count": 26
        }
      ]
    },
    {
      "cell_type": "code",
      "source": [
        "# model\n",
        "trait_prompt"
      ],
      "metadata": {
        "colab": {
          "base_uri": "https://localhost:8080/",
          "height": 87
        },
        "id": "Lbzq3axTPQSl",
        "outputId": "8a78b416-8595-4698-bc19-85a724d1fb56"
      },
      "id": "Lbzq3axTPQSl",
      "execution_count": 27,
      "outputs": [
        {
          "output_type": "execute_result",
          "data": {
            "text/plain": [
              "'Act as a person with a low score in Openness to Experience. A person with a low score in Openness to Experience typically prefers routine and familiarity over new experiences, showing caution and skepticism towards change. They tend to be more conventional and practical, often sticking to traditional ways of doing things and avoiding abstract or theoretical discussions.'"
            ],
            "application/vnd.google.colaboratory.intrinsic+json": {
              "type": "string"
            }
          },
          "metadata": {},
          "execution_count": 27
        }
      ]
    },
    {
      "cell_type": "code",
      "source": [
        "questionnaire_settings['questionnaire_module'].QUESTIONS['openness'][6]['q_statement']"
      ],
      "metadata": {
        "colab": {
          "base_uri": "https://localhost:8080/",
          "height": 35
        },
        "id": "8wfeHNHbPtsn",
        "outputId": "bc806afa-63df-4294-b087-201f49b19e20"
      },
      "id": "8wfeHNHbPtsn",
      "execution_count": null,
      "outputs": [
        {
          "output_type": "execute_result",
          "data": {
            "text/plain": [
              "'I see myself as someone who Prefers work that is routine'"
            ],
            "application/vnd.google.colaboratory.intrinsic+json": {
              "type": "string"
            }
          },
          "metadata": {},
          "execution_count": 97
        }
      ]
    },
    {
      "cell_type": "code",
      "source": [
        "user_prompt = 'You can only reply the numbers from 1 to 5. Prompt: You can only reply the numbers from 1 to 5. SCENARIO Please indicate the extent of your feeling in all the following emotions on a scale of 1 to 5. 1 denotes \"very slightly or not at all\", 2 denotes \"a little\", 3 denotes \"moderately\", 4 denotes \"quite a bit\", and 5 denotes \"extremely\". Please score all emotions one by one using the scale from 1 to 5: Please indicate the extent of your feeling in all the following emotions on a scale of 1 to 5. 1 denotes \"very slightly or not at all\", 2 denotes \"a little\", 3 denotes \"moderately\", 4 denotes \"quite a bit\", and 5 denotes \"extremely\". Please score all emotions one by one using the scale from 1 to 5:\\n1. Excited\\n2. Hostile\\n3. Strong\\n4. Upset\\n5. Active\\n6. Irritable\\n7. Proud\\n8. Alert\\n9. Afraid\\n10. Guilty\\n11. Scared\\n12. Jittery\\n13. Distressed\\n14. Nervous\\n15. Attentive\\n16. Enthusiastic\\n17. Ashamed\\n18. Inspired\\n19. Interested\\n20. Determined'"
      ],
      "metadata": {
        "id": "7hgegAuZPu4u"
      },
      "id": "7hgegAuZPu4u",
      "execution_count": 30,
      "outputs": []
    },
    {
      "cell_type": "code",
      "source": [
        "temperature"
      ],
      "metadata": {
        "id": "DwK0XlhPUuCj",
        "outputId": "56fab1c3-0789-4556-afae-94514b4a9a2f",
        "colab": {
          "base_uri": "https://localhost:8080/"
        }
      },
      "id": "DwK0XlhPUuCj",
      "execution_count": 34,
      "outputs": [
        {
          "output_type": "execute_result",
          "data": {
            "text/plain": [
              "0.9"
            ]
          },
          "metadata": {},
          "execution_count": 34
        }
      ]
    },
    {
      "cell_type": "code",
      "source": [
        "\n",
        "system_prompt = 'You are a helpful assistant who can only reply numbers from 1 to 5.'"
      ],
      "metadata": {
        "id": "E7DK66_zU1Z2"
      },
      "id": "E7DK66_zU1Z2",
      "execution_count": 35,
      "outputs": []
    },
    {
      "cell_type": "code",
      "source": [
        "response = model.generate_response(system_prompt, user_prompt, temperature)"
      ],
      "metadata": {
        "id": "NjH9jvoETN-c"
      },
      "id": "NjH9jvoETN-c",
      "execution_count": 36,
      "outputs": []
    },
    {
      "cell_type": "code",
      "source": [
        "print(response)"
      ],
      "metadata": {
        "id": "Gsi9jC2mUlk2",
        "outputId": "53a7cdbc-93a6-49a4-9fc8-711142c1244c",
        "colab": {
          "base_uri": "https://localhost:8080/"
        }
      },
      "id": "Gsi9jC2mUlk2",
      "execution_count": 37,
      "outputs": [
        {
          "output_type": "stream",
          "name": "stdout",
          "text": [
            "('1\\n2\\n3\\n4\\n1\\n2\\n3\\n4\\n2\\n2\\n1\\n2\\n3\\n4\\n3\\n1\\n3\\n3\\n3\\n4', 'ok')\n"
          ]
        }
      ]
    },
    {
      "cell_type": "code",
      "source": [
        "response = '1\\n2\\n3\\n4\\n1\\n2\\n3\\n4\\n2\\n2\\n1\\n2\\n3\\n4\\n3\\n1\\n3\\n3\\n3\\n4'"
      ],
      "metadata": {
        "id": "yOf61NqIVZYf"
      },
      "id": "yOf61NqIVZYf",
      "execution_count": 41,
      "outputs": []
    },
    {
      "cell_type": "code",
      "source": [
        "import re"
      ],
      "metadata": {
        "id": "-hv9ugy0VO5H"
      },
      "id": "-hv9ugy0VO5H",
      "execution_count": 39,
      "outputs": []
    },
    {
      "cell_type": "code",
      "source": [
        "scores = re.findall(r'\\b(\\d+)$', response, re.MULTILINE)\n",
        "list(map(int, scores))"
      ],
      "metadata": {
        "id": "DsbRI_SuUnqz",
        "outputId": "9dd83b0f-d104-481a-ac63-e2b9b1317092",
        "colab": {
          "base_uri": "https://localhost:8080/"
        }
      },
      "id": "DsbRI_SuUnqz",
      "execution_count": 43,
      "outputs": [
        {
          "output_type": "execute_result",
          "data": {
            "text/plain": [
              "[1, 2, 3, 4, 1, 2, 3, 4, 2, 2, 1, 2, 3, 4, 3, 1, 3, 3, 3, 4]"
            ]
          },
          "metadata": {},
          "execution_count": 43
        }
      ]
    }
  ],
  "metadata": {
    "kernelspec": {
      "display_name": "Python 3",
      "language": "python",
      "name": "python3"
    },
    "language_info": {
      "codemirror_mode": {
        "name": "ipython",
        "version": 3
      },
      "file_extension": ".py",
      "mimetype": "text/x-python",
      "name": "python",
      "nbconvert_exporter": "python",
      "pygments_lexer": "ipython3",
      "version": "3.8.8"
    },
    "colab": {
      "provenance": []
    }
  },
  "nbformat": 4,
  "nbformat_minor": 5
}